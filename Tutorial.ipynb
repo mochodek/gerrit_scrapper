{
 "cells": [
  {
   "cell_type": "markdown",
   "metadata": {},
   "source": [
    "# Tutorial on using Gerrit scraper\n",
    "\n",
    "Gerrit scraper allows downloading data from Gerrit instances and store them in a file or database.\n",
    "\n",
    "The model being stored is the base Gerrit REST API JSON model combined into a single dictionary."
   ]
  },
  {
   "cell_type": "markdown",
   "metadata": {},
   "source": [
    "## Creating store\n",
    "\n",
    "The first step is to create an instance of a store. "
   ]
  },
  {
   "cell_type": "markdown",
   "metadata": {},
   "source": [
    "### JSON store\n",
    "\n",
    "The simplest way to save Gerrit reviews is to dump them into a json file. "
   ]
  },
  {
   "cell_type": "code",
   "execution_count": 3,
   "metadata": {},
   "outputs": [],
   "source": [
    "from gerrit.store import JSONFileStore"
   ]
  },
  {
   "cell_type": "code",
   "execution_count": 4,
   "metadata": {},
   "outputs": [],
   "source": [
    "json_store = JSONFileStore(\"example.json\")"
   ]
  },
  {
   "cell_type": "markdown",
   "metadata": {},
   "source": [
    "### MongoDB store\n",
    "\n",
    "Reviews can be also stored in a MongoDB database."
   ]
  },
  {
   "cell_type": "code",
   "execution_count": 7,
   "metadata": {},
   "outputs": [],
   "source": [
    "from gerrit.store import MongoDBStore"
   ]
  },
  {
   "cell_type": "code",
   "execution_count": 6,
   "metadata": {},
   "outputs": [],
   "source": [
    "mongo_store = MongoDBStore(db_name=\"testdb_gerrit\", clear_before=False, skip_existing=True)"
   ]
  },
  {
   "cell_type": "markdown",
   "metadata": {},
   "source": [
    "It is assumed that the database contains a collection 'reviews' that is used to store changes.\n",
    "\n",
    "You can run the code below to create a database."
   ]
  },
  {
   "cell_type": "code",
   "execution_count": 8,
   "metadata": {},
   "outputs": [
    {
     "data": {
      "text/plain": [
       "<pymongo.results.DeleteResult at 0x2b5da5e0bd0>"
      ]
     },
     "execution_count": 8,
     "metadata": {},
     "output_type": "execute_result"
    }
   ],
   "source": [
    "from pymongo import MongoClient\n",
    "\n",
    "client = MongoClient('localhost', 27017)\n",
    "\n",
    "client.drop_database('testdb_gerrit')\n",
    "client.get_database(name='testdb_gerrit')\n",
    "\n",
    "reviews = client.testdb_gerrit.get_collection(name=\"reviews\")\n",
    "reviews.insert_one({})\n",
    "reviews.delete_many({})\n"
   ]
  },
  {
   "cell_type": "markdown",
   "metadata": {},
   "source": [
    "## Scraping Gerrit reviews\n",
    "\n",
    "The scraper object needs to be firstly created by providing the store that should be used to save the reviews."
   ]
  },
  {
   "cell_type": "code",
   "execution_count": 9,
   "metadata": {},
   "outputs": [],
   "source": [
    "from gerrit.scraper import GerritScraper"
   ]
  },
  {
   "cell_type": "code",
   "execution_count": 10,
   "metadata": {},
   "outputs": [],
   "source": [
    "# We create a scraper. It can use many stores. The worksers are used to download file contents.\n",
    "gerrit_url = \"https://android-review.googlesource.com\"\n",
    "scraper = GerritScraper(gerrit_url, stores=[mongo_store], workers=6, sleep_between_pages=5)"
   ]
  },
  {
   "cell_type": "code",
   "execution_count": 14,
   "metadata": {},
   "outputs": [
    {
     "name": "stdout",
     "output_type": "stream",
     "text": [
      "gerrit_scraper.GerritScraper - INFO - Page 1, Changes = 5\n",
      "gerrit_scraper.GerritScraper - INFO - #1: Processing change 760264\n",
      "gerrit_scraper.GerritScraper - INFO - Processing change 760264, revision 1: files 3\n",
      "gerrit_scraper.GerritScraper - INFO - Skipping change 760264\n",
      "gerrit_scraper.GerritScraper - INFO - #2: Processing change 766843\n",
      "gerrit_scraper.GerritScraper - INFO - Processing change 766843, revision 3: files 4\n",
      "gerrit_scraper.GerritScraper - INFO - Storing change 766843\n",
      "gerrit_scraper.MongoDBStore - INFO - Skipping 766843, it already exists...\n",
      "gerrit_scraper.GerritScraper - INFO - #3: Processing change 729259\n",
      "gerrit_scraper.GerritScraper - INFO - Processing change 729259, revision 9: files 8\n",
      "gerrit_scraper.GerritScraper - INFO - Storing change 729259\n",
      "gerrit_scraper.MongoDBStore - INFO - Skipping 729259, it already exists...\n",
      "gerrit_scraper.GerritScraper - INFO - #4: Processing change 766824\n",
      "gerrit_scraper.GerritScraper - INFO - Processing change 766824, revision 1: files 0\n",
      "gerrit_scraper.GerritScraper - INFO - Storing change 766824\n",
      "gerrit_scraper.MongoDBStore - INFO - Skipping 766824, it already exists...\n",
      "gerrit_scraper.GerritScraper - INFO - #5: Processing change 766492\n",
      "gerrit_scraper.GerritScraper - INFO - Processing change 766492, revision 1: files 0\n",
      "gerrit_scraper.GerritScraper - INFO - Storing change 766492\n",
      "gerrit_scraper.MongoDBStore - INFO - Skipping 766492, it already exists...\n"
     ]
    }
   ],
   "source": [
    "import logging, sys\n",
    "\n",
    "# Create logger\n",
    "logger = logging.getLogger()\n",
    "logger.setLevel(logging.INFO)\n",
    "\n",
    "handler = logging.StreamHandler(sys.stdout)\n",
    "\n",
    "# Create formatter and add it to the handler\n",
    "formatter = logging.Formatter('%(name)s - %(levelname)s - %(message)s')\n",
    "handler.setFormatter(formatter)\n",
    "logger.addHandler(handler)\n",
    "\n",
    "scraper.scrap_and_store_changes( q=\"status:open OR status:merged OR status:abandoned&\" \\\n",
    "                                     \"o=ALL_FILES&o=ALL_REVISIONS&o=LABELS&o=DETAILED_LABELS&\" \\\n",
    "                                     \"o=DETAILED_ACCOUNTS&o=MESSAGES\",\n",
    "                                 n=5, pages=1, last_revision_only=True)\n",
    "\n",
    "scraper.p.close()"
   ]
  }
 ],
 "metadata": {
  "kernelspec": {
   "display_name": "Python3 ML-GPU",
   "language": "python",
   "name": "ml"
  },
  "language_info": {
   "codemirror_mode": {
    "name": "ipython",
    "version": 3
   },
   "file_extension": ".py",
   "mimetype": "text/x-python",
   "name": "python",
   "nbconvert_exporter": "python",
   "pygments_lexer": "ipython3",
   "version": "3.6.6"
  }
 },
 "nbformat": 4,
 "nbformat_minor": 2
}
